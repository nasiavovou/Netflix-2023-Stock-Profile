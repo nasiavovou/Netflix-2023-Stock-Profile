{
 "cells": [
  {
   "cell_type": "markdown",
   "id": "ba798e2a",
   "metadata": {},
   "source": [
    "# Netflix 2023 Stock Profile"
   ]
  },
  {
   "cell_type": "markdown",
   "id": "b11283f2",
   "metadata": {},
   "source": [
    "### Intro"
   ]
  },
  {
   "cell_type": "markdown",
   "id": "69ca4c47",
   "metadata": {},
   "source": [
    "In this project, I will analyze data extracted from Yahoo Finance to create a stock profile for Netflix for the year 2023. The goal is to gain a better understanding of the publicly-traded company's finances, so as to be better equiped to assess the risk of the Netflix stock.\n",
    "\n",
    "I will inspect, prepare, analyze and plot the relevant data to examine the following: \n",
    "- The distribution of the stock prices for the past year\n",
    "- Netflix’s earnings and revenue in the last four quarters\n",
    "- The estimated vs. actual earnings per share for the four quarters in 2023\n",
    "- A comparison of the Netflix Stock price vs. the Dow Jones Industrial Average price in 2023\n",
    "\n",
    "For the last item, I will be using the Dow Jones Industrial Average to compare the Netflix stock to the larger stock market. \n",
    "\n",
    "Financial Data Source: Yahoo Finance"
   ]
  },
  {
   "cell_type": "markdown",
   "id": "e0c54896",
   "metadata": {},
   "source": [
    "### Import the necessary libraries"
   ]
  },
  {
   "cell_type": "code",
   "execution_count": 1,
   "id": "d01d5486",
   "metadata": {},
   "outputs": [],
   "source": [
    "import pandas as pd\n",
    "import numpy as np\n",
    "import matplotlib.pyplot as plt\n",
    "import seaborn as sns"
   ]
  },
  {
   "cell_type": "markdown",
   "id": "5c043e8f",
   "metadata": {},
   "source": [
    "### Create the dataframes"
   ]
  },
  {
   "cell_type": "markdown",
   "id": "89765e4a",
   "metadata": {},
   "source": [
    "##### Netflix Stocks"
   ]
  },
  {
   "cell_type": "code",
   "execution_count": 2,
   "id": "3a6c4855",
   "metadata": {},
   "outputs": [
    {
     "data": {
      "text/html": [
       "<div>\n",
       "<style scoped>\n",
       "    .dataframe tbody tr th:only-of-type {\n",
       "        vertical-align: middle;\n",
       "    }\n",
       "\n",
       "    .dataframe tbody tr th {\n",
       "        vertical-align: top;\n",
       "    }\n",
       "\n",
       "    .dataframe thead th {\n",
       "        text-align: right;\n",
       "    }\n",
       "</style>\n",
       "<table border=\"1\" class=\"dataframe\">\n",
       "  <thead>\n",
       "    <tr style=\"text-align: right;\">\n",
       "      <th></th>\n",
       "      <th>Date</th>\n",
       "      <th>Open</th>\n",
       "      <th>High</th>\n",
       "      <th>Low</th>\n",
       "      <th>Close</th>\n",
       "      <th>Adj Close</th>\n",
       "      <th>Volume</th>\n",
       "    </tr>\n",
       "  </thead>\n",
       "  <tbody>\n",
       "    <tr>\n",
       "      <th>0</th>\n",
       "      <td>2023-01-01</td>\n",
       "      <td>298.059998</td>\n",
       "      <td>369.019989</td>\n",
       "      <td>288.700012</td>\n",
       "      <td>353.859985</td>\n",
       "      <td>353.859985</td>\n",
       "      <td>206417400</td>\n",
       "    </tr>\n",
       "    <tr>\n",
       "      <th>1</th>\n",
       "      <td>2023-02-01</td>\n",
       "      <td>353.859985</td>\n",
       "      <td>379.429993</td>\n",
       "      <td>314.299988</td>\n",
       "      <td>322.130005</td>\n",
       "      <td>322.130005</td>\n",
       "      <td>123374100</td>\n",
       "    </tr>\n",
       "    <tr>\n",
       "      <th>2</th>\n",
       "      <td>2023-03-01</td>\n",
       "      <td>321.549988</td>\n",
       "      <td>345.839996</td>\n",
       "      <td>285.329987</td>\n",
       "      <td>345.480011</td>\n",
       "      <td>345.480011</td>\n",
       "      <td>157555400</td>\n",
       "    </tr>\n",
       "    <tr>\n",
       "      <th>3</th>\n",
       "      <td>2023-04-01</td>\n",
       "      <td>341.829987</td>\n",
       "      <td>349.799988</td>\n",
       "      <td>316.100006</td>\n",
       "      <td>329.929993</td>\n",
       "      <td>329.929993</td>\n",
       "      <td>127984500</td>\n",
       "    </tr>\n",
       "    <tr>\n",
       "      <th>4</th>\n",
       "      <td>2023-05-01</td>\n",
       "      <td>329.440002</td>\n",
       "      <td>405.109985</td>\n",
       "      <td>315.619995</td>\n",
       "      <td>395.230011</td>\n",
       "      <td>395.230011</td>\n",
       "      <td>145471700</td>\n",
       "    </tr>\n",
       "  </tbody>\n",
       "</table>\n",
       "</div>"
      ],
      "text/plain": [
       "         Date        Open        High         Low       Close   Adj Close  \\\n",
       "0  2023-01-01  298.059998  369.019989  288.700012  353.859985  353.859985   \n",
       "1  2023-02-01  353.859985  379.429993  314.299988  322.130005  322.130005   \n",
       "2  2023-03-01  321.549988  345.839996  285.329987  345.480011  345.480011   \n",
       "3  2023-04-01  341.829987  349.799988  316.100006  329.929993  329.929993   \n",
       "4  2023-05-01  329.440002  405.109985  315.619995  395.230011  395.230011   \n",
       "\n",
       "      Volume  \n",
       "0  206417400  \n",
       "1  123374100  \n",
       "2  157555400  \n",
       "3  127984500  \n",
       "4  145471700  "
      ]
     },
     "execution_count": 2,
     "metadata": {},
     "output_type": "execute_result"
    }
   ],
   "source": [
    "netflix_stocks = pd.read_csv(\"NFLX.csv\")\n",
    "netflix_stocks.head()"
   ]
  },
  {
   "cell_type": "markdown",
   "id": "e41e9adc",
   "metadata": {},
   "source": [
    "##### Dow Jones Stocks"
   ]
  },
  {
   "cell_type": "code",
   "execution_count": 3,
   "id": "d136db6d",
   "metadata": {},
   "outputs": [
    {
     "data": {
      "text/html": [
       "<div>\n",
       "<style scoped>\n",
       "    .dataframe tbody tr th:only-of-type {\n",
       "        vertical-align: middle;\n",
       "    }\n",
       "\n",
       "    .dataframe tbody tr th {\n",
       "        vertical-align: top;\n",
       "    }\n",
       "\n",
       "    .dataframe thead th {\n",
       "        text-align: right;\n",
       "    }\n",
       "</style>\n",
       "<table border=\"1\" class=\"dataframe\">\n",
       "  <thead>\n",
       "    <tr style=\"text-align: right;\">\n",
       "      <th></th>\n",
       "      <th>Date</th>\n",
       "      <th>Open</th>\n",
       "      <th>High</th>\n",
       "      <th>Low</th>\n",
       "      <th>Close</th>\n",
       "      <th>Adj Close</th>\n",
       "      <th>Volume</th>\n",
       "    </tr>\n",
       "  </thead>\n",
       "  <tbody>\n",
       "    <tr>\n",
       "      <th>0</th>\n",
       "      <td>12/01/2023</td>\n",
       "      <td>35914.45</td>\n",
       "      <td>37778.85</td>\n",
       "      <td>35914.45</td>\n",
       "      <td>37689.54</td>\n",
       "      <td>37689.54</td>\n",
       "      <td>6326740000</td>\n",
       "    </tr>\n",
       "    <tr>\n",
       "      <th>1</th>\n",
       "      <td>11/01/2023</td>\n",
       "      <td>33081.87</td>\n",
       "      <td>35970.70</td>\n",
       "      <td>33010.85</td>\n",
       "      <td>35950.89</td>\n",
       "      <td>35950.89</td>\n",
       "      <td>6275680000</td>\n",
       "    </tr>\n",
       "    <tr>\n",
       "      <th>2</th>\n",
       "      <td>10/01/2023</td>\n",
       "      <td>33455.50</td>\n",
       "      <td>34147.63</td>\n",
       "      <td>32327.20</td>\n",
       "      <td>33052.87</td>\n",
       "      <td>33052.87</td>\n",
       "      <td>6689000000</td>\n",
       "    </tr>\n",
       "    <tr>\n",
       "      <th>3</th>\n",
       "      <td>09/01/2023</td>\n",
       "      <td>34876.24</td>\n",
       "      <td>34979.18</td>\n",
       "      <td>33306.30</td>\n",
       "      <td>33507.50</td>\n",
       "      <td>33507.50</td>\n",
       "      <td>6186180000</td>\n",
       "    </tr>\n",
       "    <tr>\n",
       "      <th>4</th>\n",
       "      <td>08/01/2023</td>\n",
       "      <td>35585.99</td>\n",
       "      <td>35679.13</td>\n",
       "      <td>34029.22</td>\n",
       "      <td>34721.91</td>\n",
       "      <td>34721.91</td>\n",
       "      <td>7048360000</td>\n",
       "    </tr>\n",
       "  </tbody>\n",
       "</table>\n",
       "</div>"
      ],
      "text/plain": [
       "         Date      Open      High       Low     Close  Adj Close      Volume\n",
       "0  12/01/2023  35914.45  37778.85  35914.45  37689.54   37689.54  6326740000\n",
       "1  11/01/2023  33081.87  35970.70  33010.85  35950.89   35950.89  6275680000\n",
       "2  10/01/2023  33455.50  34147.63  32327.20  33052.87   33052.87  6689000000\n",
       "3  09/01/2023  34876.24  34979.18  33306.30  33507.50   33507.50  6186180000\n",
       "4  08/01/2023  35585.99  35679.13  34029.22  34721.91   34721.91  7048360000"
      ]
     },
     "execution_count": 3,
     "metadata": {},
     "output_type": "execute_result"
    }
   ],
   "source": [
    "dowjones_stocks = pd.read_csv('DJI.csv')\n",
    "dowjones_stocks.head()"
   ]
  },
  {
   "cell_type": "markdown",
   "id": "e4d23ad5",
   "metadata": {},
   "source": [
    "##### Netflix Stocks Quarterly"
   ]
  },
  {
   "cell_type": "code",
   "execution_count": 4,
   "id": "b73e21c4",
   "metadata": {},
   "outputs": [
    {
     "data": {
      "text/html": [
       "<div>\n",
       "<style scoped>\n",
       "    .dataframe tbody tr th:only-of-type {\n",
       "        vertical-align: middle;\n",
       "    }\n",
       "\n",
       "    .dataframe tbody tr th {\n",
       "        vertical-align: top;\n",
       "    }\n",
       "\n",
       "    .dataframe thead th {\n",
       "        text-align: right;\n",
       "    }\n",
       "</style>\n",
       "<table border=\"1\" class=\"dataframe\">\n",
       "  <thead>\n",
       "    <tr style=\"text-align: right;\">\n",
       "      <th></th>\n",
       "      <th>Date</th>\n",
       "      <th>Open</th>\n",
       "      <th>High</th>\n",
       "      <th>Low</th>\n",
       "      <th>Close</th>\n",
       "      <th>Adj Close</th>\n",
       "      <th>Volume</th>\n",
       "    </tr>\n",
       "  </thead>\n",
       "  <tbody>\n",
       "    <tr>\n",
       "      <th>0</th>\n",
       "      <td>2023-01-03</td>\n",
       "      <td>298.059998</td>\n",
       "      <td>298.390015</td>\n",
       "      <td>288.700012</td>\n",
       "      <td>294.950012</td>\n",
       "      <td>294.950012</td>\n",
       "      <td>6764000</td>\n",
       "    </tr>\n",
       "    <tr>\n",
       "      <th>1</th>\n",
       "      <td>2023-01-04</td>\n",
       "      <td>298.239990</td>\n",
       "      <td>311.140015</td>\n",
       "      <td>295.510010</td>\n",
       "      <td>309.410004</td>\n",
       "      <td>309.410004</td>\n",
       "      <td>9345100</td>\n",
       "    </tr>\n",
       "    <tr>\n",
       "      <th>2</th>\n",
       "      <td>2023-01-05</td>\n",
       "      <td>307.000000</td>\n",
       "      <td>314.179993</td>\n",
       "      <td>304.549988</td>\n",
       "      <td>309.700012</td>\n",
       "      <td>309.700012</td>\n",
       "      <td>8328400</td>\n",
       "    </tr>\n",
       "    <tr>\n",
       "      <th>3</th>\n",
       "      <td>2023-01-06</td>\n",
       "      <td>311.570007</td>\n",
       "      <td>316.769989</td>\n",
       "      <td>303.690002</td>\n",
       "      <td>315.549988</td>\n",
       "      <td>315.549988</td>\n",
       "      <td>8959800</td>\n",
       "    </tr>\n",
       "    <tr>\n",
       "      <th>4</th>\n",
       "      <td>2023-01-09</td>\n",
       "      <td>316.829987</td>\n",
       "      <td>321.700012</td>\n",
       "      <td>313.220001</td>\n",
       "      <td>315.170013</td>\n",
       "      <td>315.170013</td>\n",
       "      <td>6766600</td>\n",
       "    </tr>\n",
       "  </tbody>\n",
       "</table>\n",
       "</div>"
      ],
      "text/plain": [
       "         Date        Open        High         Low       Close   Adj Close  \\\n",
       "0  2023-01-03  298.059998  298.390015  288.700012  294.950012  294.950012   \n",
       "1  2023-01-04  298.239990  311.140015  295.510010  309.410004  309.410004   \n",
       "2  2023-01-05  307.000000  314.179993  304.549988  309.700012  309.700012   \n",
       "3  2023-01-06  311.570007  316.769989  303.690002  315.549988  315.549988   \n",
       "4  2023-01-09  316.829987  321.700012  313.220001  315.170013  315.170013   \n",
       "\n",
       "    Volume  \n",
       "0  6764000  \n",
       "1  9345100  \n",
       "2  8328400  \n",
       "3  8959800  \n",
       "4  6766600  "
      ]
     },
     "execution_count": 4,
     "metadata": {},
     "output_type": "execute_result"
    }
   ],
   "source": [
    "netflix_stocks_quarterly = pd.read_csv('NFLX_daily_by_quarter.csv')\n",
    "netflix_stocks_quarterly.head()"
   ]
  },
  {
   "cell_type": "markdown",
   "id": "398c3253",
   "metadata": {},
   "source": [
    "### Inspect the Dataframes"
   ]
  },
  {
   "cell_type": "code",
   "execution_count": 5,
   "id": "90912a8b",
   "metadata": {
    "scrolled": false
   },
   "outputs": [
    {
     "name": "stdout",
     "output_type": "stream",
     "text": [
      "<class 'pandas.core.frame.DataFrame'>\n",
      "RangeIndex: 12 entries, 0 to 11\n",
      "Data columns (total 7 columns):\n",
      " #   Column     Non-Null Count  Dtype  \n",
      "---  ------     --------------  -----  \n",
      " 0   Date       12 non-null     object \n",
      " 1   Open       12 non-null     float64\n",
      " 2   High       12 non-null     float64\n",
      " 3   Low        12 non-null     float64\n",
      " 4   Close      12 non-null     float64\n",
      " 5   Adj Close  12 non-null     float64\n",
      " 6   Volume     12 non-null     int64  \n",
      "dtypes: float64(5), int64(1), object(1)\n",
      "memory usage: 804.0+ bytes\n"
     ]
    }
   ],
   "source": [
    "netflix_stocks.info()"
   ]
  },
  {
   "cell_type": "code",
   "execution_count": 6,
   "id": "cf4851c7",
   "metadata": {},
   "outputs": [
    {
     "name": "stdout",
     "output_type": "stream",
     "text": [
      "<class 'pandas.core.frame.DataFrame'>\n",
      "RangeIndex: 12 entries, 0 to 11\n",
      "Data columns (total 7 columns):\n",
      " #   Column     Non-Null Count  Dtype  \n",
      "---  ------     --------------  -----  \n",
      " 0   Date       12 non-null     object \n",
      " 1   Open       12 non-null     float64\n",
      " 2   High       12 non-null     float64\n",
      " 3   Low        12 non-null     float64\n",
      " 4   Close      12 non-null     float64\n",
      " 5   Adj Close  12 non-null     float64\n",
      " 6   Volume     12 non-null     int64  \n",
      "dtypes: float64(5), int64(1), object(1)\n",
      "memory usage: 804.0+ bytes\n"
     ]
    }
   ],
   "source": [
    "dowjones_stocks.info()"
   ]
  },
  {
   "cell_type": "code",
   "execution_count": 7,
   "id": "f2e92c2a",
   "metadata": {},
   "outputs": [
    {
     "name": "stdout",
     "output_type": "stream",
     "text": [
      "<class 'pandas.core.frame.DataFrame'>\n",
      "RangeIndex: 250 entries, 0 to 249\n",
      "Data columns (total 7 columns):\n",
      " #   Column     Non-Null Count  Dtype  \n",
      "---  ------     --------------  -----  \n",
      " 0   Date       250 non-null    object \n",
      " 1   Open       250 non-null    float64\n",
      " 2   High       250 non-null    float64\n",
      " 3   Low        250 non-null    float64\n",
      " 4   Close      250 non-null    float64\n",
      " 5   Adj Close  250 non-null    float64\n",
      " 6   Volume     250 non-null    int64  \n",
      "dtypes: float64(5), int64(1), object(1)\n",
      "memory usage: 13.8+ KB\n"
     ]
    }
   ],
   "source": [
    "netflix_stocks_quarterly.info()"
   ]
  },
  {
   "cell_type": "markdown",
   "id": "42c18168",
   "metadata": {},
   "source": [
    "##### Notes\n",
    "After inspecting the dataframes, we notice two things:\n",
    "1. the \"Date\" variable is not formatted as a datetime object\n",
    "2. there is no variable explicitly indicating the quarter in the quarterly netflix stock dataframe\n",
    "3. the \"Adj Close\" variable represents the adjusted close price adjusted for both dividends and splits. This means this is the true closing stock price for a given business day."
   ]
  },
  {
   "cell_type": "markdown",
   "id": "539c7515",
   "metadata": {},
   "source": [
    "### Clean the Data"
   ]
  },
  {
   "cell_type": "markdown",
   "id": "71a197f2",
   "metadata": {},
   "source": [
    "##### Correct the datatype of the \"Date\" variable"
   ]
  },
  {
   "cell_type": "code",
   "execution_count": 8,
   "id": "80e681e0",
   "metadata": {},
   "outputs": [],
   "source": [
    "netflix_stocks['Date'] = pd.to_datetime(netflix_stocks['Date'])\n",
    "dowjones_stocks['Date'] = pd.to_datetime(dowjones_stocks['Date'])\n",
    "netflix_stocks_quarterly['Date'] = pd.to_datetime(netflix_stocks_quarterly['Date'])"
   ]
  },
  {
   "cell_type": "markdown",
   "id": "ebf82f38",
   "metadata": {},
   "source": [
    "##### Add Quarter to the Netflix Daily Stocks"
   ]
  },
  {
   "cell_type": "code",
   "execution_count": 9,
   "id": "adb3fca1",
   "metadata": {},
   "outputs": [],
   "source": [
    "netflix_stocks_quarterly['Quarter'] =  pd.cut(netflix_stocks_quarterly.Date, [pd.to_datetime('2022-12-30'),pd.to_datetime('2023-03-31'), pd.to_datetime('2023-06-30'), pd.to_datetime('2023-09-30'), pd.to_datetime('2024-01-01')], labels = ['Q1', 'Q2', 'Q3', 'Q4'])"
   ]
  },
  {
   "cell_type": "markdown",
   "id": "ae8b287a",
   "metadata": {},
   "source": [
    "##### Rename the Adj Close column to Price"
   ]
  },
  {
   "cell_type": "code",
   "execution_count": 10,
   "id": "52c6ad89",
   "metadata": {},
   "outputs": [],
   "source": [
    "netflix_stocks.rename(columns = {'Adj Close':'Price'}, inplace=True) "
   ]
  },
  {
   "cell_type": "code",
   "execution_count": 11,
   "id": "ba589b17",
   "metadata": {},
   "outputs": [],
   "source": [
    "dowjones_stocks.rename(columns = {'Adj Close':'Price'}, inplace=True)"
   ]
  },
  {
   "cell_type": "code",
   "execution_count": 12,
   "id": "60cea420",
   "metadata": {},
   "outputs": [],
   "source": [
    "netflix_stocks_quarterly.rename(columns = {'Adj Close':'Price'}, inplace=True) "
   ]
  },
  {
   "cell_type": "markdown",
   "id": "2d600951",
   "metadata": {},
   "source": [
    "##### Inspect Changes"
   ]
  },
  {
   "cell_type": "code",
   "execution_count": 13,
   "id": "c4d28b7d",
   "metadata": {},
   "outputs": [
    {
     "data": {
      "text/html": [
       "<div>\n",
       "<style scoped>\n",
       "    .dataframe tbody tr th:only-of-type {\n",
       "        vertical-align: middle;\n",
       "    }\n",
       "\n",
       "    .dataframe tbody tr th {\n",
       "        vertical-align: top;\n",
       "    }\n",
       "\n",
       "    .dataframe thead th {\n",
       "        text-align: right;\n",
       "    }\n",
       "</style>\n",
       "<table border=\"1\" class=\"dataframe\">\n",
       "  <thead>\n",
       "    <tr style=\"text-align: right;\">\n",
       "      <th></th>\n",
       "      <th>Date</th>\n",
       "      <th>Open</th>\n",
       "      <th>High</th>\n",
       "      <th>Low</th>\n",
       "      <th>Close</th>\n",
       "      <th>Price</th>\n",
       "      <th>Volume</th>\n",
       "    </tr>\n",
       "  </thead>\n",
       "  <tbody>\n",
       "    <tr>\n",
       "      <th>0</th>\n",
       "      <td>2023-01-01</td>\n",
       "      <td>298.059998</td>\n",
       "      <td>369.019989</td>\n",
       "      <td>288.700012</td>\n",
       "      <td>353.859985</td>\n",
       "      <td>353.859985</td>\n",
       "      <td>206417400</td>\n",
       "    </tr>\n",
       "    <tr>\n",
       "      <th>1</th>\n",
       "      <td>2023-02-01</td>\n",
       "      <td>353.859985</td>\n",
       "      <td>379.429993</td>\n",
       "      <td>314.299988</td>\n",
       "      <td>322.130005</td>\n",
       "      <td>322.130005</td>\n",
       "      <td>123374100</td>\n",
       "    </tr>\n",
       "    <tr>\n",
       "      <th>2</th>\n",
       "      <td>2023-03-01</td>\n",
       "      <td>321.549988</td>\n",
       "      <td>345.839996</td>\n",
       "      <td>285.329987</td>\n",
       "      <td>345.480011</td>\n",
       "      <td>345.480011</td>\n",
       "      <td>157555400</td>\n",
       "    </tr>\n",
       "    <tr>\n",
       "      <th>3</th>\n",
       "      <td>2023-04-01</td>\n",
       "      <td>341.829987</td>\n",
       "      <td>349.799988</td>\n",
       "      <td>316.100006</td>\n",
       "      <td>329.929993</td>\n",
       "      <td>329.929993</td>\n",
       "      <td>127984500</td>\n",
       "    </tr>\n",
       "    <tr>\n",
       "      <th>4</th>\n",
       "      <td>2023-05-01</td>\n",
       "      <td>329.440002</td>\n",
       "      <td>405.109985</td>\n",
       "      <td>315.619995</td>\n",
       "      <td>395.230011</td>\n",
       "      <td>395.230011</td>\n",
       "      <td>145471700</td>\n",
       "    </tr>\n",
       "  </tbody>\n",
       "</table>\n",
       "</div>"
      ],
      "text/plain": [
       "        Date        Open        High         Low       Close       Price  \\\n",
       "0 2023-01-01  298.059998  369.019989  288.700012  353.859985  353.859985   \n",
       "1 2023-02-01  353.859985  379.429993  314.299988  322.130005  322.130005   \n",
       "2 2023-03-01  321.549988  345.839996  285.329987  345.480011  345.480011   \n",
       "3 2023-04-01  341.829987  349.799988  316.100006  329.929993  329.929993   \n",
       "4 2023-05-01  329.440002  405.109985  315.619995  395.230011  395.230011   \n",
       "\n",
       "      Volume  \n",
       "0  206417400  \n",
       "1  123374100  \n",
       "2  157555400  \n",
       "3  127984500  \n",
       "4  145471700  "
      ]
     },
     "execution_count": 13,
     "metadata": {},
     "output_type": "execute_result"
    }
   ],
   "source": [
    "netflix_stocks.head()"
   ]
  },
  {
   "cell_type": "code",
   "execution_count": 14,
   "id": "45b3a4a4",
   "metadata": {
    "scrolled": true
   },
   "outputs": [
    {
     "data": {
      "text/html": [
       "<div>\n",
       "<style scoped>\n",
       "    .dataframe tbody tr th:only-of-type {\n",
       "        vertical-align: middle;\n",
       "    }\n",
       "\n",
       "    .dataframe tbody tr th {\n",
       "        vertical-align: top;\n",
       "    }\n",
       "\n",
       "    .dataframe thead th {\n",
       "        text-align: right;\n",
       "    }\n",
       "</style>\n",
       "<table border=\"1\" class=\"dataframe\">\n",
       "  <thead>\n",
       "    <tr style=\"text-align: right;\">\n",
       "      <th></th>\n",
       "      <th>Date</th>\n",
       "      <th>Open</th>\n",
       "      <th>High</th>\n",
       "      <th>Low</th>\n",
       "      <th>Close</th>\n",
       "      <th>Price</th>\n",
       "      <th>Volume</th>\n",
       "    </tr>\n",
       "  </thead>\n",
       "  <tbody>\n",
       "    <tr>\n",
       "      <th>0</th>\n",
       "      <td>2023-12-01</td>\n",
       "      <td>35914.45</td>\n",
       "      <td>37778.85</td>\n",
       "      <td>35914.45</td>\n",
       "      <td>37689.54</td>\n",
       "      <td>37689.54</td>\n",
       "      <td>6326740000</td>\n",
       "    </tr>\n",
       "    <tr>\n",
       "      <th>1</th>\n",
       "      <td>2023-11-01</td>\n",
       "      <td>33081.87</td>\n",
       "      <td>35970.70</td>\n",
       "      <td>33010.85</td>\n",
       "      <td>35950.89</td>\n",
       "      <td>35950.89</td>\n",
       "      <td>6275680000</td>\n",
       "    </tr>\n",
       "    <tr>\n",
       "      <th>2</th>\n",
       "      <td>2023-10-01</td>\n",
       "      <td>33455.50</td>\n",
       "      <td>34147.63</td>\n",
       "      <td>32327.20</td>\n",
       "      <td>33052.87</td>\n",
       "      <td>33052.87</td>\n",
       "      <td>6689000000</td>\n",
       "    </tr>\n",
       "    <tr>\n",
       "      <th>3</th>\n",
       "      <td>2023-09-01</td>\n",
       "      <td>34876.24</td>\n",
       "      <td>34979.18</td>\n",
       "      <td>33306.30</td>\n",
       "      <td>33507.50</td>\n",
       "      <td>33507.50</td>\n",
       "      <td>6186180000</td>\n",
       "    </tr>\n",
       "    <tr>\n",
       "      <th>4</th>\n",
       "      <td>2023-08-01</td>\n",
       "      <td>35585.99</td>\n",
       "      <td>35679.13</td>\n",
       "      <td>34029.22</td>\n",
       "      <td>34721.91</td>\n",
       "      <td>34721.91</td>\n",
       "      <td>7048360000</td>\n",
       "    </tr>\n",
       "  </tbody>\n",
       "</table>\n",
       "</div>"
      ],
      "text/plain": [
       "        Date      Open      High       Low     Close     Price      Volume\n",
       "0 2023-12-01  35914.45  37778.85  35914.45  37689.54  37689.54  6326740000\n",
       "1 2023-11-01  33081.87  35970.70  33010.85  35950.89  35950.89  6275680000\n",
       "2 2023-10-01  33455.50  34147.63  32327.20  33052.87  33052.87  6689000000\n",
       "3 2023-09-01  34876.24  34979.18  33306.30  33507.50  33507.50  6186180000\n",
       "4 2023-08-01  35585.99  35679.13  34029.22  34721.91  34721.91  7048360000"
      ]
     },
     "execution_count": 14,
     "metadata": {},
     "output_type": "execute_result"
    }
   ],
   "source": [
    "dowjones_stocks.head()"
   ]
  },
  {
   "cell_type": "code",
   "execution_count": 15,
   "id": "639fbd2a",
   "metadata": {},
   "outputs": [
    {
     "data": {
      "text/html": [
       "<div>\n",
       "<style scoped>\n",
       "    .dataframe tbody tr th:only-of-type {\n",
       "        vertical-align: middle;\n",
       "    }\n",
       "\n",
       "    .dataframe tbody tr th {\n",
       "        vertical-align: top;\n",
       "    }\n",
       "\n",
       "    .dataframe thead th {\n",
       "        text-align: right;\n",
       "    }\n",
       "</style>\n",
       "<table border=\"1\" class=\"dataframe\">\n",
       "  <thead>\n",
       "    <tr style=\"text-align: right;\">\n",
       "      <th></th>\n",
       "      <th>Date</th>\n",
       "      <th>Open</th>\n",
       "      <th>High</th>\n",
       "      <th>Low</th>\n",
       "      <th>Close</th>\n",
       "      <th>Price</th>\n",
       "      <th>Volume</th>\n",
       "      <th>Quarter</th>\n",
       "    </tr>\n",
       "  </thead>\n",
       "  <tbody>\n",
       "    <tr>\n",
       "      <th>0</th>\n",
       "      <td>2023-01-03</td>\n",
       "      <td>298.059998</td>\n",
       "      <td>298.390015</td>\n",
       "      <td>288.700012</td>\n",
       "      <td>294.950012</td>\n",
       "      <td>294.950012</td>\n",
       "      <td>6764000</td>\n",
       "      <td>Q1</td>\n",
       "    </tr>\n",
       "    <tr>\n",
       "      <th>1</th>\n",
       "      <td>2023-01-04</td>\n",
       "      <td>298.239990</td>\n",
       "      <td>311.140015</td>\n",
       "      <td>295.510010</td>\n",
       "      <td>309.410004</td>\n",
       "      <td>309.410004</td>\n",
       "      <td>9345100</td>\n",
       "      <td>Q1</td>\n",
       "    </tr>\n",
       "    <tr>\n",
       "      <th>2</th>\n",
       "      <td>2023-01-05</td>\n",
       "      <td>307.000000</td>\n",
       "      <td>314.179993</td>\n",
       "      <td>304.549988</td>\n",
       "      <td>309.700012</td>\n",
       "      <td>309.700012</td>\n",
       "      <td>8328400</td>\n",
       "      <td>Q1</td>\n",
       "    </tr>\n",
       "    <tr>\n",
       "      <th>3</th>\n",
       "      <td>2023-01-06</td>\n",
       "      <td>311.570007</td>\n",
       "      <td>316.769989</td>\n",
       "      <td>303.690002</td>\n",
       "      <td>315.549988</td>\n",
       "      <td>315.549988</td>\n",
       "      <td>8959800</td>\n",
       "      <td>Q1</td>\n",
       "    </tr>\n",
       "    <tr>\n",
       "      <th>4</th>\n",
       "      <td>2023-01-09</td>\n",
       "      <td>316.829987</td>\n",
       "      <td>321.700012</td>\n",
       "      <td>313.220001</td>\n",
       "      <td>315.170013</td>\n",
       "      <td>315.170013</td>\n",
       "      <td>6766600</td>\n",
       "      <td>Q1</td>\n",
       "    </tr>\n",
       "  </tbody>\n",
       "</table>\n",
       "</div>"
      ],
      "text/plain": [
       "        Date        Open        High         Low       Close       Price  \\\n",
       "0 2023-01-03  298.059998  298.390015  288.700012  294.950012  294.950012   \n",
       "1 2023-01-04  298.239990  311.140015  295.510010  309.410004  309.410004   \n",
       "2 2023-01-05  307.000000  314.179993  304.549988  309.700012  309.700012   \n",
       "3 2023-01-06  311.570007  316.769989  303.690002  315.549988  315.549988   \n",
       "4 2023-01-09  316.829987  321.700012  313.220001  315.170013  315.170013   \n",
       "\n",
       "    Volume Quarter  \n",
       "0  6764000      Q1  \n",
       "1  9345100      Q1  \n",
       "2  8328400      Q1  \n",
       "3  8959800      Q1  \n",
       "4  6766600      Q1  "
      ]
     },
     "execution_count": 15,
     "metadata": {},
     "output_type": "execute_result"
    }
   ],
   "source": [
    "netflix_stocks_quarterly.head()"
   ]
  },
  {
   "cell_type": "markdown",
   "id": "878d28ab",
   "metadata": {},
   "source": [
    "### Analyze the Data\n",
    "\n",
    "I will address the following:\n",
    "- Distribution of 2023 Netflix Stocks Prices by Quarter\n",
    "- Earning per Share: Actual vs Estimated\n",
    "- Revenue vs Earnings for 2023\n",
    "- Netflix Stock vs Dow Jones Industrial Average in 2023"
   ]
  },
  {
   "cell_type": "markdown",
   "id": "902977ea",
   "metadata": {},
   "source": [
    "##### Distribution of 2017 Netflix Stock Prices by Quarter\n",
    "\n",
    "In order to gain an understanding of the distribution of the Netflix quarterly stock prices for 2023, I will use a violin plot with four violins, one for each business quarter. This will allow us to observe the quarter in which prices fluctuated the most."
   ]
  },
  {
   "cell_type": "code",
   "execution_count": 16,
   "id": "582b89e6",
   "metadata": {},
   "outputs": [
    {
     "data": {
      "image/png": "[encoded data removed]",
      "text/plain": [
       "<Figure size 640x480 with 1 Axes>"
      ]
     },
     "metadata": {},
     "output_type": "display_data"
    }
   ],
   "source": [
    "ax = sns.violinplot(x='Quarter', y='Price', data=netflix_stocks_quarterly)\n",
    "ax.set_title(\"Distribution of 2023 Netflix Stock Prices by Quarter\")\n",
    "ax.set_ylabel(\"Closing Stock Price\")\n",
    "ax.set_xlabel(\"Business Quarters in 2023\")\n",
    "plt.show()\n",
    "plt.close()"
   ]
  },
  {
   "cell_type": "markdown",
   "id": "c9149617",
   "metadata": {},
   "source": [
    "Here, we notice the the Netflix stock price increased from quarter to quarter for the duration of 2023. The stock price seems to have fluctuated most during the second and fourt quarter, as the violins appear leaner and longer, indicating a larger range of values. "
   ]
  },
  {
   "cell_type": "markdown",
   "id": "b6734f58",
   "metadata": {},
   "source": [
    "##### EPS actual vs estimate\n",
    "\n",
    "Now, I will visualize the performance of the earnings per share (EPS) by graphing the estimate Yahoo Finance projected for each quarter compared to the actual earnings for these quarters. This will be done using a scatter plot."
   ]
  },
  {
   "cell_type": "code",
   "execution_count": 17,
   "id": "ba6d94ac",
   "metadata": {},
   "outputs": [
    {
     "data": {
      "image/png": "[encoded data removed]",
      "text/plain": [
       "<Figure size 640x480 with 1 Axes>"
      ]
     },
     "metadata": {},
     "output_type": "display_data"
    }
   ],
   "source": [
    "# Actual and Estimated earnings per share\n",
    "earnings_actual =[2.86, 2.86, 3.49, 2.22]\n",
    "earnings_estimate = [2.88, 3.29, 3.73, 2.11]\n",
    "\n",
    "# Quarters\n",
    "x_labels = [\"1Q2023\",\"2Q2023\",\"3Q2023\",\"4Q2023\"]\n",
    "x_values = np.arange(len(x_labels))\n",
    "\n",
    "# Create scatter plot\n",
    "fig, ax = plt.subplots()\n",
    "plt.scatter(x_values, earnings_actual, color='red', alpha=0.5)\n",
    "plt.scatter(x_values, earnings_estimate, color='blue', alpha=0.5)\n",
    "\n",
    "# Format plot\n",
    "plt.legend([\"Actual\", \"Estimate\"])\n",
    "plt.xticks(x_values, x_labels)\n",
    "plt.title('Earnings Per Share (USD)')\n",
    "plt.show()\n",
    "plt.close()"
   ]
  },
  {
   "cell_type": "markdown",
   "id": "31682aae",
   "metadata": {},
   "source": [
    "We observe that the company only outperforms Yahoo's estimate in the fourth quarter of 2023, where the estimation is much lower than for the rest of the year. The EPS initially stay constant for the first and second quarter, then rise for the third, before decreasing abruptly in the fourth quarter. Given the fact that the estimate for the fourth quarter was also quite low, this outcome must have been expected for the end of 2023."
   ]
  },
  {
   "cell_type": "markdown",
   "id": "fff54ebb",
   "metadata": {},
   "source": [
    "##### Revenue vs Earnings for 2023\n",
    "\n",
    "Next, I will visualize the earnings and revenue reported by Netflix for 2023 by plotting two side-by-side bar plots. Revenue refers to total revenue for each quarter and earnings are the EBIT reported for each quarter. All values shown are in billions USD."
   ]
  },
  {
   "cell_type": "code",
   "execution_count": 19,
   "id": "6f1b62e5",
   "metadata": {},
   "outputs": [
    {
     "data": {
      "image/png": "[encoded data removed]",
      "text/plain": [
       "<Figure size 640x480 with 1 Axes>"
      ]
     },
     "metadata": {},
     "output_type": "display_data"
    }
   ],
   "source": [
    "# Reported values\n",
    "revenue_by_quarter = [8.16,8.19,8.54,8.83]\n",
    "earnings_by_quarter = [1.7143,1.8541,2.0846,1.3721]\n",
    "\n",
    "# Set a value for bar width.\n",
    "bar_width = 0.35\n",
    "\n",
    "# Create a subplot \n",
    "fig, ax = plt.subplots()\n",
    "revenue_bar = ax.bar(x_values - bar_width/2, revenue_by_quarter, bar_width, label='Revenue')\n",
    "earnings_bar = ax.bar(x_values + bar_width/2, earnings_by_quarter, bar_width, label='Earnings')\n",
    "ax.set_xticks(x_values)\n",
    "ax.set_xticklabels(x_labels)\n",
    "ax.legend()\n",
    "plt.show()\n",
    "plt.close()"
   ]
  },
  {
   "cell_type": "markdown",
   "id": "a31d03d6",
   "metadata": {},
   "source": [
    "In the above plot, we can identify a steady increase in revenue over the four quarters of 2023. Earnings seem to increase steadily for the first three quarters and then drop in the fourth quarter. Looking at the Income Statement of Netflix reported on Yahoo Finance, that drop in earnings in 4Q2023 can be attributed to to an increase in operating expenses; selling and marketing expenses in particular."
   ]
  },
  {
   "cell_type": "markdown",
   "id": "2ae736fb",
   "metadata": {},
   "source": [
    "##### Netflix Stock vs Dow Jones Industrial Average in 2023\n",
    "\n",
    "I will now compare the Netflix stock to the Dow Jones Industrial Average in 2023, by plotting two line charts side by side in one figure."
   ]
  },
  {
   "cell_type": "code",
   "execution_count": 25,
   "id": "ab374e5f",
   "metadata": {},
   "outputs": [
    {
     "data": {
      "image/png": "[encoded data removed]",
      "text/plain": [
       "<Figure size 640x480 with 2 Axes>"
      ]
     },
     "metadata": {},
     "output_type": "display_data"
    }
   ],
   "source": [
    "# Left plot: Netflix\n",
    "ax1 = plt.subplot(1, 2, 1)\n",
    "plt.plot(netflix_stocks['Date'], netflix_stocks['Price'])\n",
    "plt.title(\"Netflix\")\n",
    "plt.ylabel(\"Stock Price\")\n",
    "plt.tick_params(left=True, bottom=True, labelleft=True, labelbottom=True)\n",
    "ax1.set_xticks([pd.to_datetime('2023-03-31'), pd.to_datetime('2023-06-30'), pd.to_datetime('2023-09-30'), pd.to_datetime('2023-12-30')])\n",
    "ax1.set_xticklabels(['Q1', 'Q2', 'Q3', 'Q4'])\n",
    "\n",
    "# Right plot: Dow Jones\n",
    "ax2 = plt.subplot(1, 2, 2)\n",
    "plt.plot(dowjones_stocks['Date'], dowjones_stocks['Price'])\n",
    "plt.title(\"Dow Jones\")\n",
    "plt.ylabel(\"Stock Price\")\n",
    "plt.tick_params(left=True, bottom=True, labelleft=True, labelbottom=True)\n",
    "ax2.set_xticks([pd.to_datetime('2023-03-31'), pd.to_datetime('2023-06-30'), pd.to_datetime('2023-09-30'), pd.to_datetime('2023-12-30')])\n",
    "ax2.set_xticklabels(['Q1', 'Q2', 'Q3', 'Q4'])\n",
    "\n",
    "# format graph\n",
    "plt.tight_layout()\n",
    "plt.subplots_adjust(wspace=.5)\n",
    "plt.show()\n",
    "plt.close()"
   ]
  },
  {
   "cell_type": "markdown",
   "id": "e4a74d17",
   "metadata": {},
   "source": [
    "This illustration indicates that the Netflix stock overall followed the general market trend in 2023. It shows slightly less abrupt fluctuations in stock price, and an overperformance throughout the 2nd quarter. This implies that the stock is highly affected by market conditions and generally reflects the movements of the stock market."
   ]
  },
  {
   "cell_type": "markdown",
   "id": "4923861a",
   "metadata": {},
   "source": [
    "### Conclusion"
   ]
  },
  {
   "cell_type": "markdown",
   "id": "ad640490",
   "metadata": {},
   "source": [
    "Overall, the data analyzed above indicate that Netflix's stock price and business showed steady growth in 2023. It reveals that the stock data reflect the overall market conditions, with an increasing stock price throughout the last four quarters."
   ]
  },
  {
   "cell_type": "code",
   "execution_count": null,
   "id": "0fe2b09b",
   "metadata": {},
   "outputs": [],
   "source": []
  }
 ],
 "metadata": {
  "kernelspec": {
   "display_name": "Python 3 (ipykernel)",
   "language": "python",
   "name": "python3"
  },
  "language_info": {
   "codemirror_mode": {
    "name": "ipython",
    "version": 3
   },
   "file_extension": ".py",
   "mimetype": "text/x-python",
   "name": "python",
   "nbconvert_exporter": "python",
   "pygments_lexer": "ipython3",
   "version": "3.11.4"
  }
 },
 "nbformat": 4,
 "nbformat_minor": 5
}
